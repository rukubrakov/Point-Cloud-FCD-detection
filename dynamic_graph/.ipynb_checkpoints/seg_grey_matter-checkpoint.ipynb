{
 "cells": [
  {
   "cell_type": "code",
   "execution_count": 1,
   "id": "36892ef1-6637-43ef-adeb-371eb2b656d5",
   "metadata": {},
   "outputs": [],
   "source": [
    "import os\n",
    "import sys\n",
    "import glob\n",
    "import numpy as np\n",
    "import pickle\n",
    "from tqdm import tqdm\n",
    "\n",
    "import pandas as pd\n",
    "\n",
    "from sklearn.metrics import precision_score, roc_auc_score\n",
    "\n",
    "from IPython.display import clear_output\n",
    "\n",
    "import warnings\n",
    "warnings.filterwarnings(\"ignore\")"
   ]
  },
  {
   "cell_type": "code",
   "execution_count": 2,
   "id": "2795f104-c409-4248-b80e-6164eb0e3982",
   "metadata": {},
   "outputs": [],
   "source": [
    "import sys\n",
    "\n",
    "sys.path.append('../pytorch')"
   ]
  },
  {
   "cell_type": "code",
   "execution_count": 3,
   "id": "515910f2-44fb-47a5-bbdc-b5f9e82cd8b4",
   "metadata": {},
   "outputs": [],
   "source": [
    "import imp\n",
    "\n",
    "import torch.nn as nn\n",
    "import torch.nn.init as init\n",
    "import torch.nn.functional as F\n",
    "\n",
    "import torch.optim as optim\n",
    "\n",
    "import utils.data_processor as data_processor\n",
    "imp.reload(data_processor)\n",
    "from utils.data_processor import *\n",
    "\n",
    "import utils.visualization_tools as visualization_tools\n",
    "imp.reload(visualization_tools)\n",
    "from utils.visualization_tools import *\n",
    "\n",
    "import utils.metrics as metrics\n",
    "imp.reload(metrics)\n",
    "from utils.metrics import *"
   ]
  },
  {
   "cell_type": "markdown",
   "id": "85cf2be8-2181-42e8-8297-fd50be10aab7",
   "metadata": {},
   "source": [
    "Loading dataset for grey matter segmentation"
   ]
  },
  {
   "cell_type": "code",
   "execution_count": 4,
   "id": "f605d8ea-ece4-489f-9031-22cd5ffafb6b",
   "metadata": {},
   "outputs": [],
   "source": [
    "with open(\"../pytorch/data/BrainData/trainval_data_exp_grey.pkl\", \"rb\") as f:\n",
    "    pcs_train,labels_train, _ = pickle.load(f)\n",
    "    \n",
    "with open(\"../pytorch/data/BrainData/test_data_exp_grey.pkl\", \"rb\") as f:\n",
    "    pcs_test,labels_test, _ = pickle.load(f)"
   ]
  },
  {
   "cell_type": "code",
   "execution_count": 5,
   "id": "e950e07f-7be5-4c42-8d7b-b8acdebdd3df",
   "metadata": {},
   "outputs": [],
   "source": [
    "from dataset import PCDataset"
   ]
  },
  {
   "cell_type": "markdown",
   "id": "04c736c0-827c-4e2b-95cd-df1fe94267b7",
   "metadata": {},
   "source": [
    "uploading model and training pipeline"
   ]
  },
  {
   "cell_type": "code",
   "execution_count": 6,
   "id": "57068c52-1189-4027-9e77-a47edbedd630",
   "metadata": {},
   "outputs": [],
   "source": [
    "from DGCNN import DGCNN_semseg\n",
    "from train_eval import train_val, val_step"
   ]
  },
  {
   "cell_type": "code",
   "execution_count": 7,
   "id": "191934c6-c3a3-4f20-b1e2-196120bc02e1",
   "metadata": {},
   "outputs": [],
   "source": [
    "device=\"cuda:0\""
   ]
  },
  {
   "cell_type": "code",
   "execution_count": 8,
   "id": "05959441-ec02-4fae-93c8-81309ba7daa4",
   "metadata": {},
   "outputs": [],
   "source": [
    "path_to_save=f\"models/grey_noise.pth\""
   ]
  },
  {
   "cell_type": "code",
   "execution_count": null,
   "id": "b669f353-4fe7-462a-a3f4-3c7e7d96aa82",
   "metadata": {},
   "outputs": [],
   "source": [
    "#add argument std to train_val and uncomment if you want to train the models with the noise \n",
    "\n",
    "#std = 0.005"
   ]
  },
  {
   "cell_type": "code",
   "execution_count": 9,
   "id": "ac729a18-1e17-4ac8-97a6-fb9ba265151a",
   "metadata": {},
   "outputs": [],
   "source": [
    "n_epochs = 12\n",
    "num_point_cloud = 20000\n",
    "batch_size = 1"
   ]
  },
  {
   "cell_type": "code",
   "execution_count": 10,
   "id": "b277b86c-cced-4957-a645-4652a9527b49",
   "metadata": {},
   "outputs": [],
   "source": [
    "train_data = PCDataset(pcs_train,labels_train, num_point_cloud)\n",
    "test_data = PCDataset(pcs_test,labels_test, num_point_cloud)"
   ]
  },
  {
   "cell_type": "code",
   "execution_count": 11,
   "id": "fce06930-631a-49ef-a493-a0a1a98e8cb4",
   "metadata": {},
   "outputs": [],
   "source": [
    "trainloader = torch.utils.data.DataLoader(train_data, batch_size=batch_size)\n",
    "valloader = torch.utils.data.DataLoader(test_data, batch_size=batch_size)"
   ]
  },
  {
   "cell_type": "code",
   "execution_count": 12,
   "id": "1fe4b6b5-4a2e-4a91-9e8c-de922cd47748",
   "metadata": {},
   "outputs": [],
   "source": [
    "result_dict = {\"BCE\": [], \"IoU\": [], \"ROC-AUC\": [], \"Dice\": []}"
   ]
  },
  {
   "cell_type": "code",
   "execution_count": 13,
   "id": "2bcb0f11-297f-4f9d-bc33-8b705aa33638",
   "metadata": {},
   "outputs": [],
   "source": [
    "point_cloud = next(iter(trainloader))\n",
    "target = point_cloud[1].float().detach().cpu().numpy().reshape(-1)"
   ]
  },
  {
   "cell_type": "code",
   "execution_count": null,
   "id": "e14dfb4a-c96d-4376-869d-0d4c7c0c7d73",
   "metadata": {
    "tags": []
   },
   "outputs": [
    {
     "name": "stdout",
     "output_type": "stream",
     "text": [
      "Epoch = 0, Train loss: 0.323, Test loss: 0.341\n",
      "Train ROC-AUC: 0.932, Test ROC-AUC: 0.94\n",
      "Train IoU: 0.715, Test IoU: 0.658\n",
      "Train Dice: 0.829, Test Dice: 0.779\n",
      "Epoch = 1, Train loss: 0.246, Test loss: 0.314\n",
      "Train ROC-AUC: 0.961, Test ROC-AUC: 0.945\n",
      "Train IoU: 0.768, Test IoU: 0.692\n",
      "Train Dice: 0.869, Test Dice: 0.805\n"
     ]
    }
   ],
   "source": [
    "model = DGCNN_semseg(k=20, emd_dims=512, dropout=0.5)\n",
    "model.to(device)\n",
    "\n",
    "opt = optim.Adam(model.parameters(), lr=1e-5, weight_decay=1e-4)\n",
    "criterion = nn.BCEWithLogitsLoss()\n",
    "\n",
    "metrics_dict = train_val(model, opt, criterion, trainloader, valloader,\n",
    "                         n_epochs=n_epochs, is_train=True, val_step_func=val_step)\n",
    "\n",
    "\n",
    "torch.save(model.state_dict(), path_to_save)"
   ]
  },
  {
   "cell_type": "code",
   "execution_count": null,
   "id": "165db9ba-6164-4d11-9402-26b9eafa929b",
   "metadata": {},
   "outputs": [],
   "source": []
  }
 ],
 "metadata": {
  "kernelspec": {
   "display_name": "Python 3",
   "language": "python",
   "name": "python3"
  },
  "language_info": {
   "codemirror_mode": {
    "name": "ipython",
    "version": 3
   },
   "file_extension": ".py",
   "mimetype": "text/x-python",
   "name": "python",
   "nbconvert_exporter": "python",
   "pygments_lexer": "ipython3",
   "version": "3.6.9"
  }
 },
 "nbformat": 4,
 "nbformat_minor": 5
}
