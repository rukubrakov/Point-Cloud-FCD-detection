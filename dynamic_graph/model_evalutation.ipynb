{
 "cells": [
  {
   "cell_type": "code",
   "execution_count": 1,
   "id": "8fece0d8-3874-491d-964f-7881feef65cc",
   "metadata": {},
   "outputs": [],
   "source": [
    "import os\n",
    "import sys\n",
    "import glob\n",
    "import numpy as np\n",
    "import pickle\n",
    "from tqdm import tqdm\n",
    "\n",
    "import pandas as pd\n",
    "\n",
    "from sklearn.metrics import precision_score, roc_auc_score\n",
    "\n",
    "from IPython.display import clear_output\n",
    "\n",
    "import warnings\n",
    "warnings.filterwarnings(\"ignore\")"
   ]
  },
  {
   "cell_type": "code",
   "execution_count": 2,
   "id": "1bd58b1e-f856-41e2-b92a-0f5f7b070b2f",
   "metadata": {},
   "outputs": [],
   "source": [
    "import sys\n",
    "\n",
    "sys.path.append('../pytorch')"
   ]
  },
  {
   "cell_type": "code",
   "execution_count": 3,
   "id": "6327202b-b9b8-42d2-a2cf-5ff63202eb83",
   "metadata": {},
   "outputs": [],
   "source": [
    "from utils.fcd import *\n",
    "from utils.crop import get_loader_crop"
   ]
  },
  {
   "cell_type": "code",
   "execution_count": 4,
   "id": "74dd05f5-21f9-4a91-9f89-35ffeb9d72cc",
   "metadata": {},
   "outputs": [
    {
     "name": "stdout",
     "output_type": "stream",
     "text": [
      "Thu May 27 16:14:27 2021       \n",
      "+-----------------------------------------------------------------------------+\n",
      "| NVIDIA-SMI 440.64       Driver Version: 440.64       CUDA Version: 10.2     |\n",
      "|-------------------------------+----------------------+----------------------+\n",
      "| GPU  Name        Persistence-M| Bus-Id        Disp.A | Volatile Uncorr. ECC |\n",
      "| Fan  Temp  Perf  Pwr:Usage/Cap|         Memory-Usage | GPU-Util  Compute M. |\n",
      "|===============================+======================+======================|\n",
      "|   0  GeForce GTX 108...  Off  | 00000000:01:00.0 Off |                  N/A |\n",
      "| 20%   39C    P8    16W / 250W |    765MiB / 11177MiB |      0%      Default |\n",
      "+-------------------------------+----------------------+----------------------+\n",
      "|   1  GeForce GTX 108...  Off  | 00000000:02:00.0 Off |                  N/A |\n",
      "| 20%   26C    P8     7W / 250W |   1253MiB / 11178MiB |      0%      Default |\n",
      "+-------------------------------+----------------------+----------------------+\n",
      "                                                                               \n",
      "+-----------------------------------------------------------------------------+\n",
      "| Processes:                                                       GPU Memory |\n",
      "|  GPU       PID   Type   Process name                             Usage      |\n",
      "|=============================================================================|\n",
      "+-----------------------------------------------------------------------------+\n"
     ]
    }
   ],
   "source": [
    "!nvidia-smi"
   ]
  },
  {
   "cell_type": "code",
   "execution_count": 5,
   "id": "3069e88e-6e6c-430f-abb7-a518e8e4ef35",
   "metadata": {},
   "outputs": [],
   "source": [
    "import imp\n",
    "import torch\n",
    "import torch.nn as nn\n",
    "import torch.nn.init as init\n",
    "import torch.nn.functional as F\n",
    "\n",
    "import torch.optim as optim\n",
    "\n",
    "\n",
    "import utils.data_processor as data_processor\n",
    "imp.reload(data_processor)\n",
    "from utils.data_processor import *\n",
    "\n",
    "import utils.visualization_tools as visualization_tools\n",
    "imp.reload(visualization_tools)\n",
    "from utils.visualization_tools import *\n",
    "\n",
    "import utils.metrics as metrics\n",
    "imp.reload(metrics)\n",
    "from utils.metrics import *"
   ]
  },
  {
   "cell_type": "markdown",
   "id": "a50e1faf-7a68-4f51-a7ef-8851889d16b4",
   "metadata": {},
   "source": [
    "## Example of model evaluation for Crop dataset"
   ]
  },
  {
   "cell_type": "code",
   "execution_count": 6,
   "id": "a3e27047-effb-45df-b6ad-64d42589c37a",
   "metadata": {},
   "outputs": [
    {
     "data": {
      "text/plain": [
       "0"
      ]
     },
     "execution_count": 6,
     "metadata": {},
     "output_type": "execute_result"
    }
   ],
   "source": [
    "DEVICE = 0\n",
    "\n",
    "device = torch.device('cuda') if torch.cuda.is_available() else 'cpu'\n",
    "torch.cuda.set_device(DEVICE)\n",
    "torch.cuda.current_device()"
   ]
  },
  {
   "cell_type": "code",
   "execution_count": 22,
   "id": "86284a45-a948-4dc6-9ad5-74d5b21b4536",
   "metadata": {},
   "outputs": [],
   "source": [
    "from DGCNN import DGCNN_semseg\n",
    "from train_eval import train_val, crop_val_step, iou"
   ]
  },
  {
   "cell_type": "code",
   "execution_count": 8,
   "id": "670cc4c3-d293-4bae-88ff-79c26859a57a",
   "metadata": {},
   "outputs": [],
   "source": [
    "n_epochs = 1\n",
    "num_point_cloud = 20000\n",
    "batch_size = 1"
   ]
  },
  {
   "cell_type": "code",
   "execution_count": 9,
   "id": "d16649ab-a4bb-470c-8839-d0f5ff982aa3",
   "metadata": {},
   "outputs": [],
   "source": [
    "result_dict = {\"BCE_scratch\": [], \"IoU_scratch\": [], \"ROC-AUC_scratch\": [], \"Dice_scratch\": []}"
   ]
  },
  {
   "cell_type": "code",
   "execution_count": null,
   "id": "5f443c1e-9405-420d-a2da-b53373197e41",
   "metadata": {
    "scrolled": true,
    "tags": []
   },
   "outputs": [],
   "source": [
    "for i in tqdm(range(26)):\n",
    "    CFG = '../pytorch/cfgs/brain/brain_pospoolxyz.yaml'\n",
    "    config = config_seting(CFG)\n",
    "    train_data, test_data = get_loader_crop(config = config,\n",
    "                                 num_points = num_point_cloud,\n",
    "                                batch_size = 1,\n",
    "                                 test_brain = i)\n",
    "    path_to_model = f\"models/crop/scratch/dgcnn_{i}.pth\"\n",
    "    \n",
    "    model = DGCNN_semseg(k=20, emd_dims=512, dropout=0.5)\n",
    "    model.load_state_dict(torch.load(path_to_model, map_location='cpu'))\n",
    "    model.to(device)\n",
    "    \n",
    "    opt = optim.Adam(model.parameters(), lr=1e-5, weight_decay=1e-4)\n",
    "    criterion = nn.BCEWithLogitsLoss()\n",
    "    \n",
    "    metrics_dict = train_val(model, opt, criterion, train_data, test_data, \n",
    "                             n_epochs=n_epochs, is_train=False, val_step_func=crop_val_step)\n",
    "    \n",
    "    result_dict[\"BCE_scratch\"].append(metrics_dict[\"loss\"])\n",
    "    result_dict[\"IoU_scratch\"].append(metrics_dict[\"iou\"])\n",
    "    result_dict[\"ROC-AUC_scratch\"].append(metrics_dict[\"roc\"])\n",
    "    result_dict[\"Dice_scratch\"].append(metrics_dict[\"dice\"])\n",
    "    \n",
    "    del train_data, test_data\n",
    "    del model"
   ]
  },
  {
   "cell_type": "code",
   "execution_count": 11,
   "id": "1b5c714f-c5ff-4a6a-aa0c-75001e4986a3",
   "metadata": {},
   "outputs": [],
   "source": [
    "df_scratch = pd.DataFrame(result_dict, index=[f\"{e}\" for e in range(26)])"
   ]
  },
  {
   "cell_type": "code",
   "execution_count": 12,
   "id": "4c62161c-3810-4d70-8002-bea9d7593f9b",
   "metadata": {},
   "outputs": [],
   "source": [
    "df_scratch.to_csv(\"metrics/crop/scratch.csv\")"
   ]
  },
  {
   "cell_type": "code",
   "execution_count": null,
   "id": "3cef6c93-e612-418e-a6fd-d25442a3be1f",
   "metadata": {},
   "outputs": [],
   "source": []
  }
 ],
 "metadata": {
  "kernelspec": {
   "display_name": "Python 3",
   "language": "python",
   "name": "python3"
  },
  "language_info": {
   "codemirror_mode": {
    "name": "ipython",
    "version": 3
   },
   "file_extension": ".py",
   "mimetype": "text/x-python",
   "name": "python",
   "nbconvert_exporter": "python",
   "pygments_lexer": "ipython3",
   "version": "3.6.9"
  }
 },
 "nbformat": 4,
 "nbformat_minor": 5
}
