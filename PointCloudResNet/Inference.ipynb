{
 "cells": [
  {
   "cell_type": "code",
   "execution_count": 7,
   "id": "a3e30678-3d04-4f49-b184-e02af46956c8",
   "metadata": {},
   "outputs": [],
   "source": [
    "LOSS_TYPE = 'BCE'\n",
    "IS_KUNI = False\n",
    "KUNI_AGG = 'mean'\n",
    "KUNI_LAM = 1\n",
    "IS_SEP_LOSS = False\n",
    "CFG = 'cfgs/brain/brain_pospoolxyz.yaml'#'cfgs/brain/brain_pointwisemlp.yaml'\n",
    "DEVICE = 1\n",
    "NUM_VOTES = 3\n",
    "BRAINS = range(26)\n",
    "REPEAT = 5"
   ]
  },
  {
   "cell_type": "code",
   "execution_count": 8,
   "id": "b2bdc3c0-effa-4495-a1af-82144f16a39f",
   "metadata": {},
   "outputs": [
    {
     "data": {
      "text/plain": [
       "1"
      ]
     },
     "execution_count": 8,
     "metadata": {},
     "output_type": "execute_result"
    }
   ],
   "source": [
    "from utils.fcd import *\n",
    "from utils.crop import BrainDataSegCrop\n",
    "torch.cuda.set_device(DEVICE)\n",
    "torch.cuda.current_device()"
   ]
  },
  {
   "cell_type": "code",
   "execution_count": 9,
   "id": "70818094-ea9e-4111-8778-da2274d1431c",
   "metadata": {},
   "outputs": [],
   "source": [
    "config = config_seting(CFG)"
   ]
  },
  {
   "cell_type": "code",
   "execution_count": 10,
   "id": "bcce6e4f-e3eb-4ec3-bb7c-71eba6b1e866",
   "metadata": {},
   "outputs": [],
   "source": [
    "def model_and_brains_to_points_with_predictions(config,model = None, brains = [0], num_votes = 10, repeat = 1):\n",
    "    res = {}\n",
    "    for brain_num in tqdm(brains):\n",
    "        data_loader = BrainDataSegCrop(num_points = 4096,task = 'test',test_brain = brain_num,is_return_center = True)\n",
    "        model, criterion = build_multi_part_segmentation(config = config,\n",
    "                                                         weights = None,\n",
    "                                                         type = LOSS_TYPE,\n",
    "                                                         is_kuni = IS_KUNI,\n",
    "                                                         kuni_agg = KUNI_AGG,\n",
    "                                                         kuni_lam = KUNI_LAM,\n",
    "                                                         is_sep_loss = IS_SEP_LOSS\n",
    "                                                        )\n",
    "        model.cuda()\n",
    "        model.load_state_dict(torch.load(f'checkpoints/2_{brain_num}.pth'))\n",
    "        criterion.cuda()\n",
    "        model.eval()\n",
    "\n",
    "        with torch.no_grad():\n",
    "            pred_soft_flats = []\n",
    "            points_labels_flats = []\n",
    "            center_coords_flats = []\n",
    "            points_orig_flats = []\n",
    "            all_logits = []\n",
    "            all_points_labels = []\n",
    "            all_shape_labels = []\n",
    "            all_masks = []\n",
    "            TS = d_utils.BatchPointcloudScaleAndJitter(scale_low=config.scale_low,\n",
    "                                                       scale_high=config.scale_high,\n",
    "                                                       std=config.noise_std,\n",
    "                                                       clip=config.noise_clip)\n",
    "            m = torch.nn.Softmax(dim=0)\n",
    "            for _ in range(repeat):\n",
    "                for crop in data_loader:\n",
    "                    points_orig, mask, points_labels, shape_labels, center_coords = crop\n",
    "                    vote_logits = None\n",
    "                    vote_points_labels = None\n",
    "                    vote_shape_labels = None\n",
    "                    vote_masks = None\n",
    "                    points_orig = points_orig.unsqueeze(0)\n",
    "                    mask = mask.unsqueeze(0)\n",
    "                    points_labels = points_labels.unsqueeze(0)\n",
    "                    shape_labels = shape_labels.unsqueeze(0)\n",
    "                    preds = []\n",
    "                    for v in range(num_votes):\n",
    "                        batch_logits = []\n",
    "                        batch_points_labels = []\n",
    "                        batch_shape_labels = []\n",
    "                        batch_masks = []\n",
    "\n",
    "                        if v > 0:\n",
    "                            points = TS(points_orig)\n",
    "                        else:\n",
    "                            points = points_orig\n",
    "                        # forward\n",
    "                        features = points\n",
    "                        features = features.transpose(1, 2).contiguous()\n",
    "                        points = points[:,:,:3].cuda(non_blocking=True)\n",
    "                        mask = mask.cuda(non_blocking=True)\n",
    "                        features = features.cuda(non_blocking=True)\n",
    "                        points_labels = points_labels.cuda(non_blocking=True)\n",
    "                        shape_labels = shape_labels.cuda(non_blocking=True)\n",
    "                        pred = model(points, mask, features)\n",
    "                        preds.append(pred[0])\n",
    "                    preds = torch.cat(preds).mean(dim = 0)\n",
    "                    pred_soft_flats += list(np.array(m(preds)[1,:].reshape(-1).detach().cpu()))\n",
    "                    points_labels_flats += list(np.array(points_labels.reshape(-1).detach().cpu()))\n",
    "                    points_orig = points_orig.squeeze(0)\n",
    "                    points_orig_flats += list(((points_orig[:,:3])*32+32).detach().cpu().numpy()+np.array(center_coords))\n",
    "        tmp = (np.array(points_orig_flats),np.array(pred_soft_flats),points_labels_flats)\n",
    "#         confs = confusion_matrix(tmp[2], tmp[1]>0.5)\n",
    "#         msIoU = confs[1,1]/(confs[1,1]+confs[1,0]+confs[0,1])\n",
    "#         dice_score = 2 * confs[1,1] / (2 * confs[1,1]+confs[1,0]+confs[0,1])\n",
    "#         print(f'Confision matrix: \\n{confs}')\n",
    "#         print(f'IoU: {msIoU}')\n",
    "#         print(f'DICE Score: {dice_score}')\n",
    "        res[brain_num] = tmp\n",
    "    return res"
   ]
  },
  {
   "cell_type": "code",
   "execution_count": 11,
   "id": "799efc01-3587-43b6-93b3-c08a52547181",
   "metadata": {},
   "outputs": [
    {
     "name": "stderr",
     "output_type": "stream",
     "text": [
      "\n",
      "  0%|          | 0/26 [00:00<?, ?it/s]\u001b[A\n",
      "Exception in thread Thread-3:\n",
      "Traceback (most recent call last):\n",
      "  File \"/usr/lib/python3.6/threading.py\", line 916, in _bootstrap_inner\n",
      "    self.run()\n",
      "  File \"/usr/local/lib/python3.6/dist-packages/tqdm/_monitor.py\", line 62, in run\n",
      "    for instance in self.tqdm_cls._instances:\n",
      "  File \"/usr/lib/python3.6/_weakrefset.py\", line 60, in __iter__\n",
      "    for itemref in self.data:\n",
      "RuntimeError: Set changed size during iteration\n",
      "\n",
      "100%|██████████| 26/26 [2:58:04<00:00, 410.95s/it]  \n"
     ]
    }
   ],
   "source": [
    "res_dict = model_and_brains_to_points_with_predictions(config = config, num_votes = NUM_VOTES, brains = BRAINS,repeat = REPEAT)\n",
    "np.save('for_visualisation.npy',res_dict)"
   ]
  },
  {
   "cell_type": "code",
   "execution_count": 18,
   "id": "a244eb65-35ee-4e43-b4b3-68f784042666",
   "metadata": {},
   "outputs": [],
   "source": [
    "def result_to_metrics(res):\n",
    "    conf = confusion_matrix(res[2], res[1]>0.5)\n",
    "    IoU = conf[1,1]/(conf[1,1]+conf[1,0]+conf[0,1])\n",
    "    dice = 2 * conf[1,1] / (2 * conf[1,1]+conf[1,0]+conf[0,1])\n",
    "    d_in = np.dot(res[2],res[1])/np.sum(res[2])\n",
    "    d_out = np.dot(np.ones(len(res[2]))-np.array(res[2]),res[1]) / (len(res[2]) - np.sum(res[2]))\n",
    "    contrast = (d_in - d_out) /  (d_in + d_out)\n",
    "    roc = roc_auc_score(res[2],res[1])\n",
    "    return conf,IoU,dice,contrast, roc"
   ]
  },
  {
   "cell_type": "code",
   "execution_count": 19,
   "id": "43d5bdab-25fc-43d6-a1a8-cac76a906daa",
   "metadata": {},
   "outputs": [
    {
     "name": "stderr",
     "output_type": "stream",
     "text": [
      "100%|██████████| 26/26 [06:14<00:00, 14.40s/it]\n"
     ]
    }
   ],
   "source": [
    "res_metrics = {}\n",
    "for brain in tqdm(res_dict):\n",
    "    res_metrics[brain] = {}\n",
    "    res = res_dict[brain]\n",
    "    res_metrics[brain]['conf_all'],res_metrics[brain]['IoU_all'],res_metrics[brain]['dice_all'],res_metrics[brain]['contrast_all'],res_metrics[brain]['roc_all'] = result_to_metrics(res)\n",
    "    len_1_part = len(res[0]) // REPEAT\n",
    "    res_metrics[brain]['confs'] = []\n",
    "    res_metrics[brain]['IoUs'] = []\n",
    "    res_metrics[brain]['dices'] = []\n",
    "    res_metrics[brain]['contrasts'] = []\n",
    "    res_metrics[brain]['roc'] = []\n",
    "    for repeat in range(REPEAT):\n",
    "        res_part = [res[i][len_1_part*repeat:len_1_part*(repeat+1)] for i in range(3)]\n",
    "        conf,IoU,dice, contrast,roc = result_to_metrics(res_part)\n",
    "        res_metrics[brain]['confs'].append(conf)\n",
    "        res_metrics[brain]['IoUs'].append(IoU)\n",
    "        res_metrics[brain]['dices'].append(dice)\n",
    "        res_metrics[brain]['contrasts'].append(contrast)\n",
    "        res_metrics[brain]['roc'].append(roc)\n",
    "        "
   ]
  },
  {
   "cell_type": "code",
   "execution_count": 21,
   "id": "504a6f01-2682-4b8b-b72a-625638d060c3",
   "metadata": {},
   "outputs": [
    {
     "name": "stdout",
     "output_type": "stream",
     "text": [
      "0 0.6139953965100038\n",
      "1 0.014809041309431021\n",
      "2 0.0\n",
      "3 0.7093718235413702\n",
      "4 0.0\n",
      "5 0.07088668760570185\n",
      "6 0.3825973932194823\n",
      "7 0.0\n",
      "8 0.0\n",
      "9 0.10185317517031109\n",
      "10 0.0\n",
      "11 0.25831820931639443\n",
      "12 0.21067221067221067\n",
      "13 0.004460019114367633\n",
      "14 0.005105762217359592\n",
      "15 0.0\n",
      "16 0.0\n",
      "17 0.0\n",
      "18 0.0\n",
      "19 0.11840719151625817\n",
      "20 0.0\n",
      "21 0.0\n",
      "22 0.0\n",
      "23 0.0\n",
      "24 0.0\n",
      "25 0.0\n"
     ]
    }
   ],
   "source": [
    "for brain in res_metrics:\n",
    "    print(brain,res_metrics[brain]['dice_all'])"
   ]
  },
  {
   "cell_type": "code",
   "execution_count": null,
   "id": "da79eb12-8ee0-475a-a7de-b0467b95f86b",
   "metadata": {},
   "outputs": [],
   "source": []
  }
 ],
 "metadata": {
  "kernelspec": {
   "display_name": "Python 3",
   "language": "python",
   "name": "python3"
  },
  "language_info": {
   "codemirror_mode": {
    "name": "ipython",
    "version": 3
   },
   "file_extension": ".py",
   "mimetype": "text/x-python",
   "name": "python",
   "nbconvert_exporter": "python",
   "pygments_lexer": "ipython3",
   "version": "3.6.9"
  }
 },
 "nbformat": 4,
 "nbformat_minor": 5
}
