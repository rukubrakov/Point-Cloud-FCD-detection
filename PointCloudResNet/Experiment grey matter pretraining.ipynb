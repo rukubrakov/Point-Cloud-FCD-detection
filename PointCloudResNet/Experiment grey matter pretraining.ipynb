{
 "cells": [
  {
   "cell_type": "markdown",
   "metadata": {},
   "source": [
    "# Hyperparameters"
   ]
  },
  {
   "cell_type": "code",
   "execution_count": 1,
   "metadata": {},
   "outputs": [],
   "source": [
    "CFG = 'cfgs/brain/brain_pospoolxyz.yaml'#'cfgs/brain/brain_pointwisemlp.yaml'\n",
    "IS_CONF = True\n",
    "DATAFOLDER = 'BrainData'\n",
    "FINE_TUNE = False\n",
    "IS_EXPERIMENT = True\n",
    "DATA_POSTFIX = '_exp_grey'\n",
    "DEVICE = 0\n",
    "\n",
    "#For early stopping\n",
    "EXP_NAME = '3'\n",
    "PATIENCE = 20\n",
    "\n",
    "# For fine-tuning\n",
    "PRETRAINED_MODEL_PATH = None\n",
    "\n",
    "#For loss\n",
    "LOSS_TYPE = 'BCE'\n",
    "IS_KUNI = False\n",
    "KUNI_AGG = 'mean'\n",
    "KUNI_LAM = 1\n",
    "IS_SEP_LOSS = False\n"
   ]
  },
  {
   "cell_type": "markdown",
   "metadata": {},
   "source": [
    "# Importing libraries"
   ]
  },
  {
   "cell_type": "code",
   "execution_count": 2,
   "metadata": {},
   "outputs": [
    {
     "name": "stderr",
     "output_type": "stream",
     "text": [
      "COMET INFO: Experiment is live on comet.ml https://www.comet.ml/rukubrakov/project-dl-bia/d97ddb9e2f1b43d1b8813a36a1b117ef\n",
      "\n"
     ]
    }
   ],
   "source": [
    "if IS_EXPERIMENT:\n",
    "    from comet_ml import Experiment\n",
    "\n",
    "    experiment = Experiment(\n",
    "        api_key=\"1cDG73F9830XhuYfWn4JJ2JEH\",\n",
    "        project_name=\"project-dl-bia\",\n",
    "        workspace=\"rukubrakov\",\n",
    "    )"
   ]
  },
  {
   "cell_type": "code",
   "execution_count": 3,
   "metadata": {},
   "outputs": [],
   "source": [
    "from utils.fcd import *\n",
    "warnings.filterwarnings(\"ignore\")"
   ]
  },
  {
   "cell_type": "code",
   "execution_count": 4,
   "metadata": {},
   "outputs": [
    {
     "data": {
      "text/plain": [
       "0"
      ]
     },
     "execution_count": 4,
     "metadata": {},
     "output_type": "execute_result"
    }
   ],
   "source": [
    "device = torch.device('cuda') if torch.cuda.is_available() else 'cpu'\n",
    "torch.cuda.set_device(DEVICE)\n",
    "torch.cuda.current_device()"
   ]
  },
  {
   "cell_type": "code",
   "execution_count": 5,
   "metadata": {},
   "outputs": [],
   "source": [
    "config = config_seting(CFG)"
   ]
  },
  {
   "cell_type": "markdown",
   "metadata": {},
   "source": [
    "# Data processing, train and validation"
   ]
  },
  {
   "cell_type": "code",
   "execution_count": 6,
   "metadata": {
    "scrolled": true,
    "tags": []
   },
   "outputs": [
    {
     "name": "stdout",
     "output_type": "stream",
     "text": [
      "data/BrainData/trainval_data_exp_grey.pkl loaded successfully\n",
      "data/BrainData/test_data_exp_grey.pkl loaded successfully\n"
     ]
    },
    {
     "name": "stderr",
     "output_type": "stream",
     "text": [
      "  0%|          | 0/1000 [00:00<?, ?it/s]"
     ]
    },
    {
     "name": "stdout",
     "output_type": "stream",
     "text": [
      "length of training dataset: 1013\n",
      "length of testing dataset: 100\n"
     ]
    },
    {
     "name": "stderr",
     "output_type": "stream",
     "text": [
      "  0%|          | 1/1000 [01:22<22:50:34, 82.32s/it]"
     ]
    },
    {
     "name": "stdout",
     "output_type": "stream",
     "text": [
      "Validation loss decreased (inf --> 0.483422).  Saving model ...\n"
     ]
    },
    {
     "name": "stderr",
     "output_type": "stream",
     "text": [
      "  0%|          | 2/1000 [02:45<22:59:22, 82.93s/it]"
     ]
    },
    {
     "name": "stdout",
     "output_type": "stream",
     "text": [
      "Validation loss decreased (0.483422 --> 0.449246).  Saving model ...\n"
     ]
    },
    {
     "name": "stderr",
     "output_type": "stream",
     "text": [
      "  0%|          | 3/1000 [04:09<23:02:14, 83.18s/it]"
     ]
    },
    {
     "name": "stdout",
     "output_type": "stream",
     "text": [
      "Validation loss decreased (0.449246 --> 0.436388).  Saving model ...\n"
     ]
    },
    {
     "name": "stderr",
     "output_type": "stream",
     "text": [
      "  0%|          | 4/1000 [05:33<23:02:43, 83.30s/it]"
     ]
    },
    {
     "name": "stdout",
     "output_type": "stream",
     "text": [
      "Validation loss decreased (0.436388 --> 0.430132).  Saving model ...\n"
     ]
    },
    {
     "name": "stderr",
     "output_type": "stream",
     "text": [
      "  0%|          | 5/1000 [06:57<23:03:11, 83.41s/it]"
     ]
    },
    {
     "name": "stdout",
     "output_type": "stream",
     "text": [
      "Validation loss decreased (0.430132 --> 0.424701).  Saving model ...\n"
     ]
    },
    {
     "name": "stderr",
     "output_type": "stream",
     "text": [
      "  1%|          | 6/1000 [08:20<23:02:26, 83.45s/it]"
     ]
    },
    {
     "name": "stdout",
     "output_type": "stream",
     "text": [
      "Validation loss decreased (0.424701 --> 0.420293).  Saving model ...\n"
     ]
    },
    {
     "name": "stderr",
     "output_type": "stream",
     "text": [
      "  1%|          | 7/1000 [09:44<23:01:37, 83.48s/it]"
     ]
    },
    {
     "name": "stdout",
     "output_type": "stream",
     "text": [
      "EarlyStopping counter: 1 out of 20\n",
      "Validation loss decreased (0.420293 --> 0.413617).  Saving model ...\n"
     ]
    },
    {
     "name": "stderr",
     "output_type": "stream",
     "text": [
      "  1%|          | 9/1000 [12:32<23:00:10, 83.56s/it]"
     ]
    },
    {
     "name": "stdout",
     "output_type": "stream",
     "text": [
      "Validation loss decreased (0.413617 --> 0.410014).  Saving model ...\n",
      "Validation loss decreased (0.410014 --> 0.407984).  Saving model ...\n"
     ]
    },
    {
     "name": "stderr",
     "output_type": "stream",
     "text": [
      "  1%|          | 11/1000 [15:19<22:58:10, 83.61s/it]"
     ]
    },
    {
     "name": "stdout",
     "output_type": "stream",
     "text": [
      "Validation loss decreased (0.407984 --> 0.405191).  Saving model ...\n"
     ]
    },
    {
     "name": "stderr",
     "output_type": "stream",
     "text": [
      "  1%|          | 12/1000 [16:43<22:56:48, 83.61s/it]"
     ]
    },
    {
     "name": "stdout",
     "output_type": "stream",
     "text": [
      "EarlyStopping counter: 1 out of 20\n"
     ]
    },
    {
     "name": "stderr",
     "output_type": "stream",
     "text": [
      "  1%|▏         | 13/1000 [18:07<22:55:28, 83.62s/it]"
     ]
    },
    {
     "name": "stdout",
     "output_type": "stream",
     "text": [
      "EarlyStopping counter: 2 out of 20\n"
     ]
    },
    {
     "name": "stderr",
     "output_type": "stream",
     "text": [
      "  1%|▏         | 14/1000 [19:30<22:54:08, 83.62s/it]"
     ]
    },
    {
     "name": "stdout",
     "output_type": "stream",
     "text": [
      "EarlyStopping counter: 3 out of 20\n"
     ]
    },
    {
     "name": "stderr",
     "output_type": "stream",
     "text": [
      "  2%|▏         | 15/1000 [20:54<22:52:59, 83.63s/it]"
     ]
    },
    {
     "name": "stdout",
     "output_type": "stream",
     "text": [
      "Validation loss decreased (0.405191 --> 0.402905).  Saving model ...\n",
      "Validation loss decreased (0.402905 --> 0.402714).  Saving model ...\n"
     ]
    },
    {
     "name": "stderr",
     "output_type": "stream",
     "text": [
      "  2%|▏         | 17/1000 [23:42<22:50:52, 83.67s/it]"
     ]
    },
    {
     "name": "stdout",
     "output_type": "stream",
     "text": [
      "Validation loss decreased (0.402714 --> 0.394891).  Saving model ...\n"
     ]
    },
    {
     "name": "stderr",
     "output_type": "stream",
     "text": [
      "  2%|▏         | 18/1000 [25:06<22:49:29, 83.68s/it]"
     ]
    },
    {
     "name": "stdout",
     "output_type": "stream",
     "text": [
      "EarlyStopping counter: 1 out of 20\n"
     ]
    },
    {
     "name": "stderr",
     "output_type": "stream",
     "text": [
      "  2%|▏         | 19/1000 [26:29<22:48:10, 83.68s/it]"
     ]
    },
    {
     "name": "stdout",
     "output_type": "stream",
     "text": [
      "Validation loss decreased (0.394891 --> 0.393738).  Saving model ...\n"
     ]
    },
    {
     "name": "stderr",
     "output_type": "stream",
     "text": [
      "  2%|▏         | 20/1000 [27:53<22:46:40, 83.67s/it]"
     ]
    },
    {
     "name": "stdout",
     "output_type": "stream",
     "text": [
      "EarlyStopping counter: 1 out of 20\n"
     ]
    },
    {
     "name": "stderr",
     "output_type": "stream",
     "text": [
      "  2%|▏         | 21/1000 [29:17<22:45:17, 83.67s/it]"
     ]
    },
    {
     "name": "stdout",
     "output_type": "stream",
     "text": [
      "Validation loss decreased (0.393738 --> 0.389280).  Saving model ...\n"
     ]
    },
    {
     "name": "stderr",
     "output_type": "stream",
     "text": [
      "  2%|▏         | 22/1000 [30:40<22:43:59, 83.68s/it]"
     ]
    },
    {
     "name": "stdout",
     "output_type": "stream",
     "text": [
      "Validation loss decreased (0.389280 --> 0.389121).  Saving model ...\n"
     ]
    },
    {
     "name": "stderr",
     "output_type": "stream",
     "text": [
      "  2%|▏         | 23/1000 [32:04<22:42:38, 83.68s/it]"
     ]
    },
    {
     "name": "stdout",
     "output_type": "stream",
     "text": [
      "Validation loss decreased (0.389121 --> 0.389089).  Saving model ...\n"
     ]
    },
    {
     "name": "stderr",
     "output_type": "stream",
     "text": [
      "  2%|▏         | 24/1000 [33:28<22:41:07, 83.68s/it]"
     ]
    },
    {
     "name": "stdout",
     "output_type": "stream",
     "text": [
      "EarlyStopping counter: 1 out of 20\n"
     ]
    },
    {
     "name": "stderr",
     "output_type": "stream",
     "text": [
      "  2%|▎         | 25/1000 [34:51<22:39:41, 83.67s/it]"
     ]
    },
    {
     "name": "stdout",
     "output_type": "stream",
     "text": [
      "Validation loss decreased (0.389089 --> 0.387030).  Saving model ...\n"
     ]
    },
    {
     "ename": "KeyboardInterrupt",
     "evalue": "",
     "output_type": "error",
     "traceback": [
      "\u001b[0;31m---------------------------------------------------------------------------\u001b[0m",
      "\u001b[0;31mKeyboardInterrupt\u001b[0m                         Traceback (most recent call last)",
      "\u001b[0;32m<ipython-input-6-cbd8dc19f07b>\u001b[0m in \u001b[0;36m<module>\u001b[0;34m\u001b[0m\n\u001b[1;32m     66\u001b[0m     \u001b[0mtic\u001b[0m \u001b[0;34m=\u001b[0m \u001b[0mtime\u001b[0m\u001b[0;34m.\u001b[0m\u001b[0mtime\u001b[0m\u001b[0;34m(\u001b[0m\u001b[0;34m)\u001b[0m\u001b[0;34m\u001b[0m\u001b[0;34m\u001b[0m\u001b[0m\n\u001b[1;32m     67\u001b[0m     loss, opt, roc = train(epoch, train_loader, model, criterion, optimizer, scheduler,\n\u001b[0;32m---> 68\u001b[0;31m                            config,is_kuni = IS_KUNI,is_sep_loss = IS_SEP_LOSS)\n\u001b[0m\u001b[1;32m     69\u001b[0m     \u001b[0;32mif\u001b[0m \u001b[0mIS_EXPERIMENT\u001b[0m\u001b[0;34m:\u001b[0m\u001b[0;34m\u001b[0m\u001b[0;34m\u001b[0m\u001b[0m\n\u001b[1;32m     70\u001b[0m         \u001b[0mexperiment\u001b[0m\u001b[0;34m.\u001b[0m\u001b[0mlog_metric\u001b[0m\u001b[0;34m(\u001b[0m\u001b[0;34m'roc_train'\u001b[0m\u001b[0;34m,\u001b[0m\u001b[0mroc\u001b[0m\u001b[0;34m,\u001b[0m \u001b[0mepoch\u001b[0m \u001b[0;34m=\u001b[0m \u001b[0mepoch\u001b[0m\u001b[0;34m)\u001b[0m\u001b[0;34m\u001b[0m\u001b[0;34m\u001b[0m\u001b[0m\n",
      "\u001b[0;32m/code/pytorch/utils/fcd.py\u001b[0m in \u001b[0;36mtrain\u001b[0;34m(epoch, train_loader, model, criterion, optimizer, scheduler, config, is_kuni, is_sep_loss)\u001b[0m\n\u001b[1;32m    193\u001b[0m             \u001b[0mloss_sum\u001b[0m \u001b[0;34m=\u001b[0m \u001b[0mloss\u001b[0m\u001b[0;34m[\u001b[0m\u001b[0;36m0\u001b[0m\u001b[0;34m]\u001b[0m \u001b[0;34m+\u001b[0m \u001b[0mloss\u001b[0m\u001b[0;34m[\u001b[0m\u001b[0;36m1\u001b[0m\u001b[0;34m]\u001b[0m\u001b[0;34m\u001b[0m\u001b[0;34m\u001b[0m\u001b[0m\n\u001b[1;32m    194\u001b[0m         \u001b[0mm\u001b[0m \u001b[0;34m=\u001b[0m \u001b[0mtorch\u001b[0m\u001b[0;34m.\u001b[0m\u001b[0mnn\u001b[0m\u001b[0;34m.\u001b[0m\u001b[0mSoftmax\u001b[0m\u001b[0;34m(\u001b[0m\u001b[0mdim\u001b[0m\u001b[0;34m=\u001b[0m\u001b[0;36m1\u001b[0m\u001b[0;34m)\u001b[0m\u001b[0;34m\u001b[0m\u001b[0;34m\u001b[0m\u001b[0m\n\u001b[0;32m--> 195\u001b[0;31m         \u001b[0mpred_soft_flats\u001b[0m \u001b[0;34m+=\u001b[0m \u001b[0mlist\u001b[0m\u001b[0;34m(\u001b[0m\u001b[0mnp\u001b[0m\u001b[0;34m.\u001b[0m\u001b[0marray\u001b[0m\u001b[0;34m(\u001b[0m\u001b[0mm\u001b[0m\u001b[0;34m(\u001b[0m\u001b[0mpred\u001b[0m\u001b[0;34m[\u001b[0m\u001b[0;36m0\u001b[0m\u001b[0;34m]\u001b[0m\u001b[0;34m)\u001b[0m\u001b[0;34m[\u001b[0m\u001b[0;34m:\u001b[0m\u001b[0;34m,\u001b[0m\u001b[0;36m1\u001b[0m\u001b[0;34m,\u001b[0m\u001b[0;34m:\u001b[0m\u001b[0;34m]\u001b[0m\u001b[0;34m.\u001b[0m\u001b[0mreshape\u001b[0m\u001b[0;34m(\u001b[0m\u001b[0;34m-\u001b[0m\u001b[0;36m1\u001b[0m\u001b[0;34m)\u001b[0m\u001b[0;34m.\u001b[0m\u001b[0mdetach\u001b[0m\u001b[0;34m(\u001b[0m\u001b[0;34m)\u001b[0m\u001b[0;34m.\u001b[0m\u001b[0mcpu\u001b[0m\u001b[0;34m(\u001b[0m\u001b[0;34m)\u001b[0m\u001b[0;34m)\u001b[0m\u001b[0;34m)\u001b[0m\u001b[0;34m\u001b[0m\u001b[0;34m\u001b[0m\u001b[0m\n\u001b[0m\u001b[1;32m    196\u001b[0m         \u001b[0mpoints_labels_flats\u001b[0m \u001b[0;34m+=\u001b[0m \u001b[0mlist\u001b[0m\u001b[0;34m(\u001b[0m\u001b[0mnp\u001b[0m\u001b[0;34m.\u001b[0m\u001b[0marray\u001b[0m\u001b[0;34m(\u001b[0m\u001b[0mpoints_labels\u001b[0m\u001b[0;34m.\u001b[0m\u001b[0mreshape\u001b[0m\u001b[0;34m(\u001b[0m\u001b[0;34m-\u001b[0m\u001b[0;36m1\u001b[0m\u001b[0;34m)\u001b[0m\u001b[0;34m.\u001b[0m\u001b[0mdetach\u001b[0m\u001b[0;34m(\u001b[0m\u001b[0;34m)\u001b[0m\u001b[0;34m.\u001b[0m\u001b[0mcpu\u001b[0m\u001b[0;34m(\u001b[0m\u001b[0;34m)\u001b[0m\u001b[0;34m)\u001b[0m\u001b[0;34m)\u001b[0m\u001b[0;34m\u001b[0m\u001b[0;34m\u001b[0m\u001b[0m\n\u001b[1;32m    197\u001b[0m \u001b[0;34m\u001b[0m\u001b[0m\n",
      "\u001b[0;31mKeyboardInterrupt\u001b[0m: "
     ]
    }
   ],
   "source": [
    "es = []\n",
    "test_ious = []\n",
    "test_lossess = []\n",
    "test_dices = []\n",
    "test_rocs = []\n",
    "test_tprs = []\n",
    "test_fprs = []\n",
    "\n",
    "train_loader, test_loader, train_labels = get_loader(batch_size = config.batch_size,num_points = config.num_points, \n",
    "                                   data_post = DATA_POSTFIX, \n",
    "                                   datafolder = DATAFOLDER )\n",
    "\n",
    "total_1class = np.sum([np.sum(labels) for labels in train_labels])\n",
    "total = np.sum([labels.shape[0] for labels in train_labels])\n",
    "weight = total_1class / (total - total_1class)\n",
    "WEIGHTS = [weight, 1]\n",
    "\n",
    "model, criterion = build_multi_part_segmentation(config,\n",
    "                                                 WEIGHTS,\n",
    "                                                 LOSS_TYPE,\n",
    "                                                 is_kuni = IS_KUNI,\n",
    "                                                 kuni_agg = KUNI_AGG,\n",
    "                                                 kuni_lam = KUNI_LAM,\n",
    "                                                 is_sep_loss = IS_SEP_LOSS\n",
    "                                                )\n",
    "if FINE_TUNE:\n",
    "    model.load_state_dict(torch.load(PRETRAINED_MODEL_PATH))\n",
    "model.cuda()\n",
    "criterion.cuda()\n",
    "\n",
    "n_data = len(train_loader.dataset)\n",
    "print(f\"length of training dataset: {n_data}\")\n",
    "n_data = len(test_loader.dataset)\n",
    "print(f\"length of testing dataset: {n_data}\")\n",
    "\n",
    "\n",
    "if config.optimizer == 'sgd':\n",
    "    optimizer = torch.optim.SGD(model.parameters(),\n",
    "                                lr=config.batch_size * dist.get_world_size() / 16 * config.base_learning_rate,\n",
    "                                momentum=config.momentum,\n",
    "                                weight_decay=config.weight_decay)\n",
    "elif config.optimizer == 'adam':\n",
    "    optimizer = torch.optim.Adam(model.parameters(),\n",
    "                                 lr=config.base_learning_rate,\n",
    "                                 weight_decay=config.weight_decay)\n",
    "elif config.optimizer == 'adamW':\n",
    "    optimizer = torch.optim.AdamW(model.parameters(),\n",
    "                                  lr=config.base_learning_rate,\n",
    "                                  weight_decay=config.weight_decay)\n",
    "else:\n",
    "    raise NotImplementedError(f\"Optimizer {config.optimizer} not supported\")\n",
    "scheduler = get_scheduler(optimizer, len(train_loader), config)\n",
    "\n",
    "test_iou = []\n",
    "test_losses = []\n",
    "test_dice = []\n",
    "test_roc = []\n",
    "test_tpr = []\n",
    "test_fpr = []\n",
    "minimal_loss = 1e8\n",
    "early_stopping = EarlyStopping(patience=PATIENCE, verbose=True, \n",
    "                               path = f'../pytorch/checkpoints/{EXP_NAME}.pth')\n",
    "\n",
    "for epoch in tqdm(range(config.start_epoch, config.epochs + 1)):\n",
    "\n",
    "    tic = time.time()\n",
    "    loss, opt, roc = train(epoch, train_loader, model, criterion, optimizer, scheduler,\n",
    "                           config,is_kuni = IS_KUNI,is_sep_loss = IS_SEP_LOSS)\n",
    "    if IS_EXPERIMENT:\n",
    "        experiment.log_metric('roc_train',roc, epoch = epoch)\n",
    "        experiment.log_metric('lr',optimizer.param_groups[0]['lr'], epoch = epoch)\n",
    "\n",
    "    tmp = validate(epoch, test_loader, model, criterion, config, num_votes=1, \n",
    "                   is_conf = IS_CONF,is_kuni = IS_KUNI,is_sep_loss = IS_SEP_LOSS)\n",
    "    if IS_CONF:\n",
    "        loss_test,acc, msIoU, mIoU,confs, roc,opt, tpr,fpr,dice_score = tmp\n",
    "    else:\n",
    "        loss_test,acc, msIoU, mIoU, roc,opt,tpr,fpr,dice_score = tmp\n",
    "\n",
    "\n",
    "    if IS_EXPERIMENT:    \n",
    "        experiment.log_metric('optimal_cutoff_test',opt, epoch = epoch)\n",
    "        experiment.log_metric('tpr_test',tpr, epoch = epoch)\n",
    "        experiment.log_metric('fpr_test',fpr, epoch = epoch)\n",
    "        experiment.log_metric('roc_test',roc, epoch = epoch)\n",
    "        experiment.log_metric('dice_score_test',dice_score, epoch = epoch)\n",
    "\n",
    "        if IS_SEP_LOSS:\n",
    "            experiment.log_metric('loss_train',loss[0]+loss[1], epoch = epoch)\n",
    "            experiment.log_metric('loss_train_base',loss[0], epoch = epoch)\n",
    "            experiment.log_metric('loss_train_kuni',loss[1], epoch = epoch)\n",
    "            experiment.log_metric('loss_test',loss_test[0]+loss_test[1], epoch = epoch)\n",
    "            experiment.log_metric('loss_test_base',loss_test[0], epoch = epoch)\n",
    "            experiment.log_metric('loss_test_kuni',loss_test[1], epoch = epoch)\n",
    "        else:\n",
    "            experiment.log_metric('loss_train',loss, epoch = epoch)\n",
    "            experiment.log_metric('loss_test',loss_test, epoch = epoch)\n",
    "        experiment.log_metric('accuracy_test',acc, epoch = epoch)\n",
    "        experiment.log_metric('IoU_test',msIoU, epoch = epoch)\n",
    "    if IS_EXPERIMENT:\n",
    "        if IS_CONF:\n",
    "            experiment.log_confusion_matrix(title=f\"Test confusion epoch = {epoch}\", matrix = confs, labels = ['No FCD', 'FCD'])\n",
    "    if IS_SEP_LOSS:   \n",
    "        test_losses.append(loss_test[0])\n",
    "    else:\n",
    "        test_losses.append(loss_test)\n",
    "    test_iou.append(msIoU)\n",
    "    test_roc.append(roc)\n",
    "    test_dice.append(dice_score)\n",
    "    test_tpr.append(tpr)\n",
    "    test_fpr.append(fpr)\n",
    "\n",
    "    if IS_SEP_LOSS:\n",
    "        early_stopping(loss_test[0], model)\n",
    "    else:\n",
    "        early_stopping(loss_test, model)\n",
    "\n",
    "    if early_stopping.early_stop:\n",
    "        print(\"Early stopping\")\n",
    "        break\n",
    "\n",
    "best_ind = np.argmax(np.array(test_tpr)-np.array(test_fpr))\n",
    "es.append(e)\n",
    "test_ious.append(np.max(test_iou))\n",
    "test_lossess.append(np.min(test_losses))\n",
    "test_dices.append(np.max(test_dice))\n",
    "test_rocs.append(np.max(test_roc))\n",
    "test_tprs.append(np.array(test_tpr)[best_ind])\n",
    "test_fprs.append(np.array(test_fpr)[best_ind])\n",
    "\n",
    "del model\n",
    "    "
   ]
  },
  {
   "cell_type": "code",
   "execution_count": null,
   "metadata": {},
   "outputs": [],
   "source": []
  }
 ],
 "metadata": {
  "kernelspec": {
   "display_name": "Python 3",
   "language": "python",
   "name": "python3"
  },
  "language_info": {
   "codemirror_mode": {
    "name": "ipython",
    "version": 3
   },
   "file_extension": ".py",
   "mimetype": "text/x-python",
   "name": "python",
   "nbconvert_exporter": "python",
   "pygments_lexer": "ipython3",
   "version": "3.6.9"
  }
 },
 "nbformat": 4,
 "nbformat_minor": 4
}
